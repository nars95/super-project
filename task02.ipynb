{
  "nbformat": 4,
  "nbformat_minor": 0,
  "metadata": {
    "colab": {
      "provenance": [],
      "gpuType": "T4",
      "authorship_tag": "ABX9TyPGn9jJT4XDDEroB0VSrFcf",
      "include_colab_link": true
    },
    "kernelspec": {
      "name": "python3",
      "display_name": "Python 3"
    },
    "language_info": {
      "name": "python"
    },
    "accelerator": "GPU"
  },
  "cells": [
    {
      "cell_type": "markdown",
      "metadata": {
        "id": "view-in-github",
        "colab_type": "text"
      },
      "source": [
        "<a href=\"https://colab.research.google.com/github/nars95/super-project/blob/main/task02.ipynb\" target=\"_parent\"><img src=\"https://colab.research.google.com/assets/colab-badge.svg\" alt=\"Open In Colab\"/></a>"
      ]
    },
    {
      "cell_type": "markdown",
      "source": [
        "### Import packages using in this work"
      ],
      "metadata": {
        "id": "mdVVVIW9sOCN"
      }
    },
    {
      "cell_type": "code",
      "execution_count": 1,
      "metadata": {
        "id": "OSFvvEpZkD4U"
      },
      "outputs": [],
      "source": [
        "import pandas as pd\n",
        "import numpy as np\n",
        "import matplotlib.pyplot as plt\n",
        "import tensorflow as tf\n",
        "from tensorflow import keras\n",
        "import sklearn\n",
        "from sklearn.preprocessing import StandardScaler\n",
        "from sklearn.model_selection import train_test_split, GridSearchCV\n",
        "from sklearn.metrics import accuracy_score, mean_squared_error\n",
        "from keras.layers import InputLayer, Dense\n",
        "from keras.models import Sequential\n",
        "from keras.utils import plot_model, to_categorical\n",
        "from sklearn.model_selection import RandomizedSearchCV\n",
        "from sklearn.model_selection import KFold\n",
        "from sklearn.metrics import accuracy_score"
      ]
    },
    {
      "cell_type": "markdown",
      "source": [
        "### Read the data mamographic from uci repository"
      ],
      "metadata": {
        "id": "U0x-witNsTh3"
      }
    },
    {
      "cell_type": "code",
      "source": [
        "columns_names = ['BI-RADS','Age','Shape','Margin','Density', 'Severity']"
      ],
      "metadata": {
        "id": "oqYBt7DPrSe1"
      },
      "execution_count": null,
      "outputs": []
    },
    {
      "cell_type": "code",
      "source": [
        "features = ['Age','Shape','Margin','Density']"
      ],
      "metadata": {
        "id": "NOc-EcR8DyUB"
      },
      "execution_count": null,
      "outputs": []
    },
    {
      "cell_type": "code",
      "source": [
        "url = \"https://archive.ics.uci.edu/ml/machine-learning-databases/mammographic-masses/mammographic_masses.data\"\n",
        "df = pd.read_csv(url, header=None, names=columns_names)"
      ],
      "metadata": {
        "id": "Ig2oY5lolz9s"
      },
      "execution_count": null,
      "outputs": []
    },
    {
      "cell_type": "code",
      "source": [
        "df.head()"
      ],
      "metadata": {
        "colab": {
          "base_uri": "https://localhost:8080/",
          "height": 206
        },
        "id": "eHGLtvMJDcnN",
        "outputId": "df12e487-90bf-4d2d-b4d2-5a4c2642a14d"
      },
      "execution_count": null,
      "outputs": [
        {
          "output_type": "execute_result",
          "data": {
            "text/plain": [
              "  BI-RADS Age Shape Margin Density  Severity\n",
              "0       5  67     3      5       3         1\n",
              "1       4  43     1      1       ?         1\n",
              "2       5  58     4      5       3         1\n",
              "3       4  28     1      1       3         0\n",
              "4       5  74     1      5       ?         1"
            ],
            "text/html": [
              "\n",
              "\n",
              "  <div id=\"df-429c1c0b-2092-4368-8410-6d77a1e6d880\">\n",
              "    <div class=\"colab-df-container\">\n",
              "      <div>\n",
              "<style scoped>\n",
              "    .dataframe tbody tr th:only-of-type {\n",
              "        vertical-align: middle;\n",
              "    }\n",
              "\n",
              "    .dataframe tbody tr th {\n",
              "        vertical-align: top;\n",
              "    }\n",
              "\n",
              "    .dataframe thead th {\n",
              "        text-align: right;\n",
              "    }\n",
              "</style>\n",
              "<table border=\"1\" class=\"dataframe\">\n",
              "  <thead>\n",
              "    <tr style=\"text-align: right;\">\n",
              "      <th></th>\n",
              "      <th>BI-RADS</th>\n",
              "      <th>Age</th>\n",
              "      <th>Shape</th>\n",
              "      <th>Margin</th>\n",
              "      <th>Density</th>\n",
              "      <th>Severity</th>\n",
              "    </tr>\n",
              "  </thead>\n",
              "  <tbody>\n",
              "    <tr>\n",
              "      <th>0</th>\n",
              "      <td>5</td>\n",
              "      <td>67</td>\n",
              "      <td>3</td>\n",
              "      <td>5</td>\n",
              "      <td>3</td>\n",
              "      <td>1</td>\n",
              "    </tr>\n",
              "    <tr>\n",
              "      <th>1</th>\n",
              "      <td>4</td>\n",
              "      <td>43</td>\n",
              "      <td>1</td>\n",
              "      <td>1</td>\n",
              "      <td>?</td>\n",
              "      <td>1</td>\n",
              "    </tr>\n",
              "    <tr>\n",
              "      <th>2</th>\n",
              "      <td>5</td>\n",
              "      <td>58</td>\n",
              "      <td>4</td>\n",
              "      <td>5</td>\n",
              "      <td>3</td>\n",
              "      <td>1</td>\n",
              "    </tr>\n",
              "    <tr>\n",
              "      <th>3</th>\n",
              "      <td>4</td>\n",
              "      <td>28</td>\n",
              "      <td>1</td>\n",
              "      <td>1</td>\n",
              "      <td>3</td>\n",
              "      <td>0</td>\n",
              "    </tr>\n",
              "    <tr>\n",
              "      <th>4</th>\n",
              "      <td>5</td>\n",
              "      <td>74</td>\n",
              "      <td>1</td>\n",
              "      <td>5</td>\n",
              "      <td>?</td>\n",
              "      <td>1</td>\n",
              "    </tr>\n",
              "  </tbody>\n",
              "</table>\n",
              "</div>\n",
              "      <button class=\"colab-df-convert\" onclick=\"convertToInteractive('df-429c1c0b-2092-4368-8410-6d77a1e6d880')\"\n",
              "              title=\"Convert this dataframe to an interactive table.\"\n",
              "              style=\"display:none;\">\n",
              "\n",
              "  <svg xmlns=\"http://www.w3.org/2000/svg\" height=\"24px\"viewBox=\"0 0 24 24\"\n",
              "       width=\"24px\">\n",
              "    <path d=\"M0 0h24v24H0V0z\" fill=\"none\"/>\n",
              "    <path d=\"M18.56 5.44l.94 2.06.94-2.06 2.06-.94-2.06-.94-.94-2.06-.94 2.06-2.06.94zm-11 1L8.5 8.5l.94-2.06 2.06-.94-2.06-.94L8.5 2.5l-.94 2.06-2.06.94zm10 10l.94 2.06.94-2.06 2.06-.94-2.06-.94-.94-2.06-.94 2.06-2.06.94z\"/><path d=\"M17.41 7.96l-1.37-1.37c-.4-.4-.92-.59-1.43-.59-.52 0-1.04.2-1.43.59L10.3 9.45l-7.72 7.72c-.78.78-.78 2.05 0 2.83L4 21.41c.39.39.9.59 1.41.59.51 0 1.02-.2 1.41-.59l7.78-7.78 2.81-2.81c.8-.78.8-2.07 0-2.86zM5.41 20L4 18.59l7.72-7.72 1.47 1.35L5.41 20z\"/>\n",
              "  </svg>\n",
              "      </button>\n",
              "\n",
              "\n",
              "\n",
              "    <div id=\"df-6c3db5ad-9d29-406d-9ae4-dea448ca7684\">\n",
              "      <button class=\"colab-df-quickchart\" onclick=\"quickchart('df-6c3db5ad-9d29-406d-9ae4-dea448ca7684')\"\n",
              "              title=\"Suggest charts.\"\n",
              "              style=\"display:none;\">\n",
              "\n",
              "<svg xmlns=\"http://www.w3.org/2000/svg\" height=\"24px\"viewBox=\"0 0 24 24\"\n",
              "     width=\"24px\">\n",
              "    <g>\n",
              "        <path d=\"M19 3H5c-1.1 0-2 .9-2 2v14c0 1.1.9 2 2 2h14c1.1 0 2-.9 2-2V5c0-1.1-.9-2-2-2zM9 17H7v-7h2v7zm4 0h-2V7h2v10zm4 0h-2v-4h2v4z\"/>\n",
              "    </g>\n",
              "</svg>\n",
              "      </button>\n",
              "    </div>\n",
              "\n",
              "<style>\n",
              "  .colab-df-quickchart {\n",
              "    background-color: #E8F0FE;\n",
              "    border: none;\n",
              "    border-radius: 50%;\n",
              "    cursor: pointer;\n",
              "    display: none;\n",
              "    fill: #1967D2;\n",
              "    height: 32px;\n",
              "    padding: 0 0 0 0;\n",
              "    width: 32px;\n",
              "  }\n",
              "\n",
              "  .colab-df-quickchart:hover {\n",
              "    background-color: #E2EBFA;\n",
              "    box-shadow: 0px 1px 2px rgba(60, 64, 67, 0.3), 0px 1px 3px 1px rgba(60, 64, 67, 0.15);\n",
              "    fill: #174EA6;\n",
              "  }\n",
              "\n",
              "  [theme=dark] .colab-df-quickchart {\n",
              "    background-color: #3B4455;\n",
              "    fill: #D2E3FC;\n",
              "  }\n",
              "\n",
              "  [theme=dark] .colab-df-quickchart:hover {\n",
              "    background-color: #434B5C;\n",
              "    box-shadow: 0px 1px 3px 1px rgba(0, 0, 0, 0.15);\n",
              "    filter: drop-shadow(0px 1px 2px rgba(0, 0, 0, 0.3));\n",
              "    fill: #FFFFFF;\n",
              "  }\n",
              "</style>\n",
              "\n",
              "    <script>\n",
              "      async function quickchart(key) {\n",
              "        const containerElement = document.querySelector('#' + key);\n",
              "        const charts = await google.colab.kernel.invokeFunction(\n",
              "            'suggestCharts', [key], {});\n",
              "      }\n",
              "    </script>\n",
              "\n",
              "      <script>\n",
              "\n",
              "function displayQuickchartButton(domScope) {\n",
              "  let quickchartButtonEl =\n",
              "    domScope.querySelector('#df-6c3db5ad-9d29-406d-9ae4-dea448ca7684 button.colab-df-quickchart');\n",
              "  quickchartButtonEl.style.display =\n",
              "    google.colab.kernel.accessAllowed ? 'block' : 'none';\n",
              "}\n",
              "\n",
              "        displayQuickchartButton(document);\n",
              "      </script>\n",
              "      <style>\n",
              "    .colab-df-container {\n",
              "      display:flex;\n",
              "      flex-wrap:wrap;\n",
              "      gap: 12px;\n",
              "    }\n",
              "\n",
              "    .colab-df-convert {\n",
              "      background-color: #E8F0FE;\n",
              "      border: none;\n",
              "      border-radius: 50%;\n",
              "      cursor: pointer;\n",
              "      display: none;\n",
              "      fill: #1967D2;\n",
              "      height: 32px;\n",
              "      padding: 0 0 0 0;\n",
              "      width: 32px;\n",
              "    }\n",
              "\n",
              "    .colab-df-convert:hover {\n",
              "      background-color: #E2EBFA;\n",
              "      box-shadow: 0px 1px 2px rgba(60, 64, 67, 0.3), 0px 1px 3px 1px rgba(60, 64, 67, 0.15);\n",
              "      fill: #174EA6;\n",
              "    }\n",
              "\n",
              "    [theme=dark] .colab-df-convert {\n",
              "      background-color: #3B4455;\n",
              "      fill: #D2E3FC;\n",
              "    }\n",
              "\n",
              "    [theme=dark] .colab-df-convert:hover {\n",
              "      background-color: #434B5C;\n",
              "      box-shadow: 0px 1px 3px 1px rgba(0, 0, 0, 0.15);\n",
              "      filter: drop-shadow(0px 1px 2px rgba(0, 0, 0, 0.3));\n",
              "      fill: #FFFFFF;\n",
              "    }\n",
              "  </style>\n",
              "\n",
              "      <script>\n",
              "        const buttonEl =\n",
              "          document.querySelector('#df-429c1c0b-2092-4368-8410-6d77a1e6d880 button.colab-df-convert');\n",
              "        buttonEl.style.display =\n",
              "          google.colab.kernel.accessAllowed ? 'block' : 'none';\n",
              "\n",
              "        async function convertToInteractive(key) {\n",
              "          const element = document.querySelector('#df-429c1c0b-2092-4368-8410-6d77a1e6d880');\n",
              "          const dataTable =\n",
              "            await google.colab.kernel.invokeFunction('convertToInteractive',\n",
              "                                                     [key], {});\n",
              "          if (!dataTable) return;\n",
              "\n",
              "          const docLinkHtml = 'Like what you see? Visit the ' +\n",
              "            '<a target=\"_blank\" href=https://colab.research.google.com/notebooks/data_table.ipynb>data table notebook</a>'\n",
              "            + ' to learn more about interactive tables.';\n",
              "          element.innerHTML = '';\n",
              "          dataTable['output_type'] = 'display_data';\n",
              "          await google.colab.output.renderOutput(dataTable, element);\n",
              "          const docLink = document.createElement('div');\n",
              "          docLink.innerHTML = docLinkHtml;\n",
              "          element.appendChild(docLink);\n",
              "        }\n",
              "      </script>\n",
              "    </div>\n",
              "  </div>\n"
            ]
          },
          "metadata": {},
          "execution_count": 10
        }
      ]
    },
    {
      "cell_type": "markdown",
      "source": [
        "### Seems that there is not the missing values look to the information of our dataset, correct ?\n",
        "Not exacly, because there is some values with the ? symbol.\n",
        "\n",
        "Let's take a look and replace it."
      ],
      "metadata": {
        "id": "k2acCFTItpuO"
      }
    },
    {
      "cell_type": "code",
      "source": [
        "def missing_values(column):\n",
        "  \"\"\"\n",
        "    Finds and counts missing values in a column.\n",
        "\n",
        "    Args:\n",
        "        column (list or pandas.Series): The column to check for missing values.\n",
        "\n",
        "    Returns:\n",
        "        tuple: A tuple containing:\n",
        "            - list: A list of missing values found in the column.\n",
        "            - int: The total count of missing values.\n",
        "\n",
        "    Example:\n",
        "        >>> column = ['A', 'B', '?', 'C', '?', 'D']\n",
        "        >>> missing_values(column)\n",
        "        (['?', '?'], 2)\n",
        "    \"\"\"\n",
        "  list_missing_values = []\n",
        "  for value in column.values:\n",
        "    if value == '?':\n",
        "      list_missing_values.append(value)\n",
        "  return list_missing_values, len(list_missing_values)"
      ],
      "metadata": {
        "id": "lmxsU98Jp954"
      },
      "execution_count": null,
      "outputs": []
    },
    {
      "cell_type": "code",
      "source": [
        "missing_values(df['Age'])"
      ],
      "metadata": {
        "colab": {
          "base_uri": "https://localhost:8080/"
        },
        "id": "NDLSCD2nvbRq",
        "outputId": "8ac769db-a3ad-4ef0-a03c-94f7348e141b"
      },
      "execution_count": null,
      "outputs": [
        {
          "output_type": "execute_result",
          "data": {
            "text/plain": [
              "(['?', '?', '?', '?', '?'], 5)"
            ]
          },
          "metadata": {},
          "execution_count": 12
        }
      ]
    },
    {
      "cell_type": "code",
      "source": [
        "missing_values(df['BI-RADS'])"
      ],
      "metadata": {
        "colab": {
          "base_uri": "https://localhost:8080/"
        },
        "id": "E7BAFKeBx4pP",
        "outputId": "75a6fcbb-7230-49a0-92c1-dc54137e1ba4"
      },
      "execution_count": null,
      "outputs": [
        {
          "output_type": "execute_result",
          "data": {
            "text/plain": [
              "(['?', '?'], 2)"
            ]
          },
          "metadata": {},
          "execution_count": 13
        }
      ]
    },
    {
      "cell_type": "code",
      "source": [
        "missing_values(df['Shape'])"
      ],
      "metadata": {
        "colab": {
          "base_uri": "https://localhost:8080/"
        },
        "id": "Fe8Lly3zx829",
        "outputId": "2420cd0c-6e49-4f01-fa89-ffe984f8d3da"
      },
      "execution_count": null,
      "outputs": [
        {
          "output_type": "execute_result",
          "data": {
            "text/plain": [
              "(['?',\n",
              "  '?',\n",
              "  '?',\n",
              "  '?',\n",
              "  '?',\n",
              "  '?',\n",
              "  '?',\n",
              "  '?',\n",
              "  '?',\n",
              "  '?',\n",
              "  '?',\n",
              "  '?',\n",
              "  '?',\n",
              "  '?',\n",
              "  '?',\n",
              "  '?',\n",
              "  '?',\n",
              "  '?',\n",
              "  '?',\n",
              "  '?',\n",
              "  '?',\n",
              "  '?',\n",
              "  '?',\n",
              "  '?',\n",
              "  '?',\n",
              "  '?',\n",
              "  '?',\n",
              "  '?',\n",
              "  '?',\n",
              "  '?',\n",
              "  '?'],\n",
              " 31)"
            ]
          },
          "metadata": {},
          "execution_count": 14
        }
      ]
    },
    {
      "cell_type": "code",
      "source": [
        "missing_values(df['Margin'])"
      ],
      "metadata": {
        "colab": {
          "base_uri": "https://localhost:8080/"
        },
        "id": "Ar0_dne6yGWM",
        "outputId": "3d43af44-e34e-458c-b50b-e75df00a88b0"
      },
      "execution_count": null,
      "outputs": [
        {
          "output_type": "execute_result",
          "data": {
            "text/plain": [
              "(['?',\n",
              "  '?',\n",
              "  '?',\n",
              "  '?',\n",
              "  '?',\n",
              "  '?',\n",
              "  '?',\n",
              "  '?',\n",
              "  '?',\n",
              "  '?',\n",
              "  '?',\n",
              "  '?',\n",
              "  '?',\n",
              "  '?',\n",
              "  '?',\n",
              "  '?',\n",
              "  '?',\n",
              "  '?',\n",
              "  '?',\n",
              "  '?',\n",
              "  '?',\n",
              "  '?',\n",
              "  '?',\n",
              "  '?',\n",
              "  '?',\n",
              "  '?',\n",
              "  '?',\n",
              "  '?',\n",
              "  '?',\n",
              "  '?',\n",
              "  '?',\n",
              "  '?',\n",
              "  '?',\n",
              "  '?',\n",
              "  '?',\n",
              "  '?',\n",
              "  '?',\n",
              "  '?',\n",
              "  '?',\n",
              "  '?',\n",
              "  '?',\n",
              "  '?',\n",
              "  '?',\n",
              "  '?',\n",
              "  '?',\n",
              "  '?',\n",
              "  '?',\n",
              "  '?'],\n",
              " 48)"
            ]
          },
          "metadata": {},
          "execution_count": 15
        }
      ]
    },
    {
      "cell_type": "code",
      "source": [
        "missing_values(df['Density'])"
      ],
      "metadata": {
        "colab": {
          "base_uri": "https://localhost:8080/"
        },
        "id": "0nxSXTbiyEXe",
        "outputId": "c0631adf-a98f-495f-b5c1-cbe2cf0866ad"
      },
      "execution_count": null,
      "outputs": [
        {
          "output_type": "execute_result",
          "data": {
            "text/plain": [
              "(['?',\n",
              "  '?',\n",
              "  '?',\n",
              "  '?',\n",
              "  '?',\n",
              "  '?',\n",
              "  '?',\n",
              "  '?',\n",
              "  '?',\n",
              "  '?',\n",
              "  '?',\n",
              "  '?',\n",
              "  '?',\n",
              "  '?',\n",
              "  '?',\n",
              "  '?',\n",
              "  '?',\n",
              "  '?',\n",
              "  '?',\n",
              "  '?',\n",
              "  '?',\n",
              "  '?',\n",
              "  '?',\n",
              "  '?',\n",
              "  '?',\n",
              "  '?',\n",
              "  '?',\n",
              "  '?',\n",
              "  '?',\n",
              "  '?',\n",
              "  '?',\n",
              "  '?',\n",
              "  '?',\n",
              "  '?',\n",
              "  '?',\n",
              "  '?',\n",
              "  '?',\n",
              "  '?',\n",
              "  '?',\n",
              "  '?',\n",
              "  '?',\n",
              "  '?',\n",
              "  '?',\n",
              "  '?',\n",
              "  '?',\n",
              "  '?',\n",
              "  '?',\n",
              "  '?',\n",
              "  '?',\n",
              "  '?',\n",
              "  '?',\n",
              "  '?',\n",
              "  '?',\n",
              "  '?',\n",
              "  '?',\n",
              "  '?',\n",
              "  '?',\n",
              "  '?',\n",
              "  '?',\n",
              "  '?',\n",
              "  '?',\n",
              "  '?',\n",
              "  '?',\n",
              "  '?',\n",
              "  '?',\n",
              "  '?',\n",
              "  '?',\n",
              "  '?',\n",
              "  '?',\n",
              "  '?',\n",
              "  '?',\n",
              "  '?',\n",
              "  '?',\n",
              "  '?',\n",
              "  '?',\n",
              "  '?'],\n",
              " 76)"
            ]
          },
          "metadata": {},
          "execution_count": 16
        }
      ]
    },
    {
      "cell_type": "code",
      "source": [
        "missing_values(df['Severity']) # there is not missing values for the column"
      ],
      "metadata": {
        "colab": {
          "base_uri": "https://localhost:8080/"
        },
        "id": "8CcHcpsyy8Zr",
        "outputId": "592c59cd-1957-4cd0-e4e2-a58343c1bf7e"
      },
      "execution_count": null,
      "outputs": [
        {
          "output_type": "execute_result",
          "data": {
            "text/plain": [
              "([], 0)"
            ]
          },
          "metadata": {},
          "execution_count": 17
        }
      ]
    },
    {
      "cell_type": "markdown",
      "source": [
        "Let's replace symbol ? of each column"
      ],
      "metadata": {
        "id": "Cy2_k_vNytxX"
      }
    },
    {
      "cell_type": "code",
      "source": [
        "def average_column(column):\n",
        "  \"\"\"\n",
        "    Calculates the average of numeric values in a column.\n",
        "\n",
        "    Args:\n",
        "        column (list or pandas.Series): The column containing numeric values.\n",
        "\n",
        "    Returns:\n",
        "        int: The rounded average value of the numeric values in the column.\n",
        "\n",
        "    Example:\n",
        "        >>> column = ['10', '20', '30', '?', '40']\n",
        "        >>> average_column(column)\n",
        "        25\n",
        "    \"\"\"\n",
        "  list_values = []\n",
        "  for value in column.values:\n",
        "    if value != '?':\n",
        "      list_values.append(int(value))\n",
        "  return int(np.round(np.average(list_values)))"
      ],
      "metadata": {
        "id": "KyCCOz4Cy16E"
      },
      "execution_count": null,
      "outputs": []
    },
    {
      "cell_type": "code",
      "source": [
        "bi_rad = df['BI-RADS'].replace('?', str(average_column(df['BI-RADS'])))"
      ],
      "metadata": {
        "id": "kPtLcZXc2Mof"
      },
      "execution_count": null,
      "outputs": []
    },
    {
      "cell_type": "code",
      "source": [
        "age = df['Age'].replace('?', str(average_column(df['Age'])))"
      ],
      "metadata": {
        "id": "KYzgmWZQ0kfw"
      },
      "execution_count": null,
      "outputs": []
    },
    {
      "cell_type": "code",
      "source": [
        "shape =df['Shape'].replace('?', str(average_column(df['Shape'])))"
      ],
      "metadata": {
        "id": "JxRXYC7s2td5"
      },
      "execution_count": null,
      "outputs": []
    },
    {
      "cell_type": "code",
      "source": [
        "margin = df['Margin'].replace('?', str(average_column(df['Margin'])))"
      ],
      "metadata": {
        "id": "HHea0H3G25Pa"
      },
      "execution_count": null,
      "outputs": []
    },
    {
      "cell_type": "code",
      "source": [
        "density = df['Density'].replace('?', str(average_column(df['Density'])))"
      ],
      "metadata": {
        "id": "C6psGdIc3BNu"
      },
      "execution_count": null,
      "outputs": []
    },
    {
      "cell_type": "code",
      "source": [
        "df['BI-RADS'] = bi_rad\n",
        "df['Age'] = age\n",
        "df['Shape'] = shape\n",
        "df['Margin'] = margin\n",
        "df['Density'] = density"
      ],
      "metadata": {
        "id": "RXL2f27A3MYW"
      },
      "execution_count": null,
      "outputs": []
    },
    {
      "cell_type": "code",
      "source": [
        "df.info() # note the the column feature continues like the object and we need transform it."
      ],
      "metadata": {
        "colab": {
          "base_uri": "https://localhost:8080/"
        },
        "id": "2yOPLxeR2OZ1",
        "outputId": "b4a52d90-1b6c-4477-deb2-bd01502b38fe"
      },
      "execution_count": null,
      "outputs": [
        {
          "output_type": "stream",
          "name": "stdout",
          "text": [
            "<class 'pandas.core.frame.DataFrame'>\n",
            "RangeIndex: 961 entries, 0 to 960\n",
            "Data columns (total 6 columns):\n",
            " #   Column    Non-Null Count  Dtype \n",
            "---  ------    --------------  ----- \n",
            " 0   BI-RADS   961 non-null    object\n",
            " 1   Age       961 non-null    object\n",
            " 2   Shape     961 non-null    object\n",
            " 3   Margin    961 non-null    object\n",
            " 4   Density   961 non-null    object\n",
            " 5   Severity  961 non-null    int64 \n",
            "dtypes: int64(1), object(5)\n",
            "memory usage: 45.2+ KB\n"
          ]
        }
      ]
    },
    {
      "cell_type": "markdown",
      "source": [
        "### Separating the df in to data ant target"
      ],
      "metadata": {
        "id": "JSRbb0CW2jUc"
      }
    },
    {
      "cell_type": "code",
      "source": [
        "data = df[features].values\n",
        "target = df.iloc[:, -1].values"
      ],
      "metadata": {
        "id": "pJz5mXnf2aV5"
      },
      "execution_count": null,
      "outputs": []
    },
    {
      "cell_type": "code",
      "source": [
        "data = data.astype(np.int64) # transform the from string to int64"
      ],
      "metadata": {
        "id": "ADGEnePx3TM0"
      },
      "execution_count": null,
      "outputs": []
    },
    {
      "cell_type": "code",
      "source": [
        "data.dtype"
      ],
      "metadata": {
        "colab": {
          "base_uri": "https://localhost:8080/"
        },
        "id": "GjHb5J763PcS",
        "outputId": "5eebead8-22a5-42d9-beda-893c65add553"
      },
      "execution_count": null,
      "outputs": [
        {
          "output_type": "execute_result",
          "data": {
            "text/plain": [
              "dtype('int64')"
            ]
          },
          "metadata": {},
          "execution_count": 28
        }
      ]
    },
    {
      "cell_type": "code",
      "source": [
        "print(data.shape, target.shape)"
      ],
      "metadata": {
        "colab": {
          "base_uri": "https://localhost:8080/"
        },
        "id": "qR9alLb5Ecl8",
        "outputId": "a1bebb3e-5719-444e-b5a4-19483e493371"
      },
      "execution_count": null,
      "outputs": [
        {
          "output_type": "stream",
          "name": "stdout",
          "text": [
            "(961, 4) (961,)\n"
          ]
        }
      ]
    },
    {
      "cell_type": "markdown",
      "source": [
        "### Normalize the data using StandardScaler"
      ],
      "metadata": {
        "id": "dOnlvxaF3ncG"
      }
    },
    {
      "cell_type": "code",
      "source": [
        "encoder = StandardScaler()\n",
        "data_transform = encoder.fit_transform(data)"
      ],
      "metadata": {
        "id": "U-e2BqLF3twG"
      },
      "execution_count": null,
      "outputs": []
    },
    {
      "cell_type": "markdown",
      "source": [
        "### Let's take a look in our data after transformation"
      ],
      "metadata": {
        "id": "ogWVwFG832Gv"
      }
    },
    {
      "cell_type": "code",
      "source": [
        "pd.DataFrame(data_transform, columns =features)"
      ],
      "metadata": {
        "colab": {
          "base_uri": "https://localhost:8080/",
          "height": 423
        },
        "id": "zK2-l2qE30wx",
        "outputId": "1abba03b-652e-47fe-a3b8-d7aaf9b9988b"
      },
      "execution_count": null,
      "outputs": [
        {
          "output_type": "execute_result",
          "data": {
            "text/plain": [
              "          Age     Shape    Margin   Density\n",
              "0    0.797726  0.220384  1.436762  0.224804\n",
              "1   -0.864912 -1.415052 -1.183216  0.224804\n",
              "2    0.174237  1.038102  1.436762  0.224804\n",
              "3   -1.904060 -1.415052 -1.183216  0.224804\n",
              "4    1.282661 -1.415052  1.436762  0.224804\n",
              "..        ...       ...       ...       ...\n",
              "956 -0.587805 -0.597334 -1.183216  0.224804\n",
              "957  0.035684  1.038102  1.436762  0.224804\n",
              "958  0.589896  1.038102  1.436762  0.224804\n",
              "959  0.728449  1.038102  1.436762  0.224804\n",
              "960  0.451343  0.220384  0.126773  0.224804\n",
              "\n",
              "[961 rows x 4 columns]"
            ],
            "text/html": [
              "\n",
              "\n",
              "  <div id=\"df-85dab626-2d87-4496-9dc5-6f16fe5f2e55\">\n",
              "    <div class=\"colab-df-container\">\n",
              "      <div>\n",
              "<style scoped>\n",
              "    .dataframe tbody tr th:only-of-type {\n",
              "        vertical-align: middle;\n",
              "    }\n",
              "\n",
              "    .dataframe tbody tr th {\n",
              "        vertical-align: top;\n",
              "    }\n",
              "\n",
              "    .dataframe thead th {\n",
              "        text-align: right;\n",
              "    }\n",
              "</style>\n",
              "<table border=\"1\" class=\"dataframe\">\n",
              "  <thead>\n",
              "    <tr style=\"text-align: right;\">\n",
              "      <th></th>\n",
              "      <th>Age</th>\n",
              "      <th>Shape</th>\n",
              "      <th>Margin</th>\n",
              "      <th>Density</th>\n",
              "    </tr>\n",
              "  </thead>\n",
              "  <tbody>\n",
              "    <tr>\n",
              "      <th>0</th>\n",
              "      <td>0.797726</td>\n",
              "      <td>0.220384</td>\n",
              "      <td>1.436762</td>\n",
              "      <td>0.224804</td>\n",
              "    </tr>\n",
              "    <tr>\n",
              "      <th>1</th>\n",
              "      <td>-0.864912</td>\n",
              "      <td>-1.415052</td>\n",
              "      <td>-1.183216</td>\n",
              "      <td>0.224804</td>\n",
              "    </tr>\n",
              "    <tr>\n",
              "      <th>2</th>\n",
              "      <td>0.174237</td>\n",
              "      <td>1.038102</td>\n",
              "      <td>1.436762</td>\n",
              "      <td>0.224804</td>\n",
              "    </tr>\n",
              "    <tr>\n",
              "      <th>3</th>\n",
              "      <td>-1.904060</td>\n",
              "      <td>-1.415052</td>\n",
              "      <td>-1.183216</td>\n",
              "      <td>0.224804</td>\n",
              "    </tr>\n",
              "    <tr>\n",
              "      <th>4</th>\n",
              "      <td>1.282661</td>\n",
              "      <td>-1.415052</td>\n",
              "      <td>1.436762</td>\n",
              "      <td>0.224804</td>\n",
              "    </tr>\n",
              "    <tr>\n",
              "      <th>...</th>\n",
              "      <td>...</td>\n",
              "      <td>...</td>\n",
              "      <td>...</td>\n",
              "      <td>...</td>\n",
              "    </tr>\n",
              "    <tr>\n",
              "      <th>956</th>\n",
              "      <td>-0.587805</td>\n",
              "      <td>-0.597334</td>\n",
              "      <td>-1.183216</td>\n",
              "      <td>0.224804</td>\n",
              "    </tr>\n",
              "    <tr>\n",
              "      <th>957</th>\n",
              "      <td>0.035684</td>\n",
              "      <td>1.038102</td>\n",
              "      <td>1.436762</td>\n",
              "      <td>0.224804</td>\n",
              "    </tr>\n",
              "    <tr>\n",
              "      <th>958</th>\n",
              "      <td>0.589896</td>\n",
              "      <td>1.038102</td>\n",
              "      <td>1.436762</td>\n",
              "      <td>0.224804</td>\n",
              "    </tr>\n",
              "    <tr>\n",
              "      <th>959</th>\n",
              "      <td>0.728449</td>\n",
              "      <td>1.038102</td>\n",
              "      <td>1.436762</td>\n",
              "      <td>0.224804</td>\n",
              "    </tr>\n",
              "    <tr>\n",
              "      <th>960</th>\n",
              "      <td>0.451343</td>\n",
              "      <td>0.220384</td>\n",
              "      <td>0.126773</td>\n",
              "      <td>0.224804</td>\n",
              "    </tr>\n",
              "  </tbody>\n",
              "</table>\n",
              "<p>961 rows × 4 columns</p>\n",
              "</div>\n",
              "      <button class=\"colab-df-convert\" onclick=\"convertToInteractive('df-85dab626-2d87-4496-9dc5-6f16fe5f2e55')\"\n",
              "              title=\"Convert this dataframe to an interactive table.\"\n",
              "              style=\"display:none;\">\n",
              "\n",
              "  <svg xmlns=\"http://www.w3.org/2000/svg\" height=\"24px\"viewBox=\"0 0 24 24\"\n",
              "       width=\"24px\">\n",
              "    <path d=\"M0 0h24v24H0V0z\" fill=\"none\"/>\n",
              "    <path d=\"M18.56 5.44l.94 2.06.94-2.06 2.06-.94-2.06-.94-.94-2.06-.94 2.06-2.06.94zm-11 1L8.5 8.5l.94-2.06 2.06-.94-2.06-.94L8.5 2.5l-.94 2.06-2.06.94zm10 10l.94 2.06.94-2.06 2.06-.94-2.06-.94-.94-2.06-.94 2.06-2.06.94z\"/><path d=\"M17.41 7.96l-1.37-1.37c-.4-.4-.92-.59-1.43-.59-.52 0-1.04.2-1.43.59L10.3 9.45l-7.72 7.72c-.78.78-.78 2.05 0 2.83L4 21.41c.39.39.9.59 1.41.59.51 0 1.02-.2 1.41-.59l7.78-7.78 2.81-2.81c.8-.78.8-2.07 0-2.86zM5.41 20L4 18.59l7.72-7.72 1.47 1.35L5.41 20z\"/>\n",
              "  </svg>\n",
              "      </button>\n",
              "\n",
              "\n",
              "\n",
              "    <div id=\"df-b272f52f-df8c-4908-bca8-c0af3d44fe04\">\n",
              "      <button class=\"colab-df-quickchart\" onclick=\"quickchart('df-b272f52f-df8c-4908-bca8-c0af3d44fe04')\"\n",
              "              title=\"Suggest charts.\"\n",
              "              style=\"display:none;\">\n",
              "\n",
              "<svg xmlns=\"http://www.w3.org/2000/svg\" height=\"24px\"viewBox=\"0 0 24 24\"\n",
              "     width=\"24px\">\n",
              "    <g>\n",
              "        <path d=\"M19 3H5c-1.1 0-2 .9-2 2v14c0 1.1.9 2 2 2h14c1.1 0 2-.9 2-2V5c0-1.1-.9-2-2-2zM9 17H7v-7h2v7zm4 0h-2V7h2v10zm4 0h-2v-4h2v4z\"/>\n",
              "    </g>\n",
              "</svg>\n",
              "      </button>\n",
              "    </div>\n",
              "\n",
              "<style>\n",
              "  .colab-df-quickchart {\n",
              "    background-color: #E8F0FE;\n",
              "    border: none;\n",
              "    border-radius: 50%;\n",
              "    cursor: pointer;\n",
              "    display: none;\n",
              "    fill: #1967D2;\n",
              "    height: 32px;\n",
              "    padding: 0 0 0 0;\n",
              "    width: 32px;\n",
              "  }\n",
              "\n",
              "  .colab-df-quickchart:hover {\n",
              "    background-color: #E2EBFA;\n",
              "    box-shadow: 0px 1px 2px rgba(60, 64, 67, 0.3), 0px 1px 3px 1px rgba(60, 64, 67, 0.15);\n",
              "    fill: #174EA6;\n",
              "  }\n",
              "\n",
              "  [theme=dark] .colab-df-quickchart {\n",
              "    background-color: #3B4455;\n",
              "    fill: #D2E3FC;\n",
              "  }\n",
              "\n",
              "  [theme=dark] .colab-df-quickchart:hover {\n",
              "    background-color: #434B5C;\n",
              "    box-shadow: 0px 1px 3px 1px rgba(0, 0, 0, 0.15);\n",
              "    filter: drop-shadow(0px 1px 2px rgba(0, 0, 0, 0.3));\n",
              "    fill: #FFFFFF;\n",
              "  }\n",
              "</style>\n",
              "\n",
              "    <script>\n",
              "      async function quickchart(key) {\n",
              "        const containerElement = document.querySelector('#' + key);\n",
              "        const charts = await google.colab.kernel.invokeFunction(\n",
              "            'suggestCharts', [key], {});\n",
              "      }\n",
              "    </script>\n",
              "\n",
              "      <script>\n",
              "\n",
              "function displayQuickchartButton(domScope) {\n",
              "  let quickchartButtonEl =\n",
              "    domScope.querySelector('#df-b272f52f-df8c-4908-bca8-c0af3d44fe04 button.colab-df-quickchart');\n",
              "  quickchartButtonEl.style.display =\n",
              "    google.colab.kernel.accessAllowed ? 'block' : 'none';\n",
              "}\n",
              "\n",
              "        displayQuickchartButton(document);\n",
              "      </script>\n",
              "      <style>\n",
              "    .colab-df-container {\n",
              "      display:flex;\n",
              "      flex-wrap:wrap;\n",
              "      gap: 12px;\n",
              "    }\n",
              "\n",
              "    .colab-df-convert {\n",
              "      background-color: #E8F0FE;\n",
              "      border: none;\n",
              "      border-radius: 50%;\n",
              "      cursor: pointer;\n",
              "      display: none;\n",
              "      fill: #1967D2;\n",
              "      height: 32px;\n",
              "      padding: 0 0 0 0;\n",
              "      width: 32px;\n",
              "    }\n",
              "\n",
              "    .colab-df-convert:hover {\n",
              "      background-color: #E2EBFA;\n",
              "      box-shadow: 0px 1px 2px rgba(60, 64, 67, 0.3), 0px 1px 3px 1px rgba(60, 64, 67, 0.15);\n",
              "      fill: #174EA6;\n",
              "    }\n",
              "\n",
              "    [theme=dark] .colab-df-convert {\n",
              "      background-color: #3B4455;\n",
              "      fill: #D2E3FC;\n",
              "    }\n",
              "\n",
              "    [theme=dark] .colab-df-convert:hover {\n",
              "      background-color: #434B5C;\n",
              "      box-shadow: 0px 1px 3px 1px rgba(0, 0, 0, 0.15);\n",
              "      filter: drop-shadow(0px 1px 2px rgba(0, 0, 0, 0.3));\n",
              "      fill: #FFFFFF;\n",
              "    }\n",
              "  </style>\n",
              "\n",
              "      <script>\n",
              "        const buttonEl =\n",
              "          document.querySelector('#df-85dab626-2d87-4496-9dc5-6f16fe5f2e55 button.colab-df-convert');\n",
              "        buttonEl.style.display =\n",
              "          google.colab.kernel.accessAllowed ? 'block' : 'none';\n",
              "\n",
              "        async function convertToInteractive(key) {\n",
              "          const element = document.querySelector('#df-85dab626-2d87-4496-9dc5-6f16fe5f2e55');\n",
              "          const dataTable =\n",
              "            await google.colab.kernel.invokeFunction('convertToInteractive',\n",
              "                                                     [key], {});\n",
              "          if (!dataTable) return;\n",
              "\n",
              "          const docLinkHtml = 'Like what you see? Visit the ' +\n",
              "            '<a target=\"_blank\" href=https://colab.research.google.com/notebooks/data_table.ipynb>data table notebook</a>'\n",
              "            + ' to learn more about interactive tables.';\n",
              "          element.innerHTML = '';\n",
              "          dataTable['output_type'] = 'display_data';\n",
              "          await google.colab.output.renderOutput(dataTable, element);\n",
              "          const docLink = document.createElement('div');\n",
              "          docLink.innerHTML = docLinkHtml;\n",
              "          element.appendChild(docLink);\n",
              "        }\n",
              "      </script>\n",
              "    </div>\n",
              "  </div>\n"
            ]
          },
          "metadata": {},
          "execution_count": 31
        }
      ]
    },
    {
      "cell_type": "markdown",
      "source": [
        "### Split the data into train and test"
      ],
      "metadata": {
        "id": "KDzWq6z64jXr"
      }
    },
    {
      "cell_type": "code",
      "source": [
        "X , X_test, y, y_test = train_test_split(data_transform, target, train_size=0.8, random_state=42)"
      ],
      "metadata": {
        "id": "bX52Dsqo4U6G"
      },
      "execution_count": null,
      "outputs": []
    },
    {
      "cell_type": "code",
      "source": [
        "print(X.shape, X_test.shape)"
      ],
      "metadata": {
        "colab": {
          "base_uri": "https://localhost:8080/"
        },
        "id": "zkNIHy4T41nF",
        "outputId": "26df3341-8b4d-4c97-9317-e788ce8a3e08"
      },
      "execution_count": null,
      "outputs": [
        {
          "output_type": "stream",
          "name": "stdout",
          "text": [
            "(768, 4) (193, 4)\n"
          ]
        }
      ]
    },
    {
      "cell_type": "markdown",
      "source": [
        "Build cross_validation"
      ],
      "metadata": {
        "id": "3CrnPjfeVGvz"
      }
    },
    {
      "cell_type": "code",
      "source": [
        "def cross_validation(model, kfold, batch_size = 32, epochs = 100, verbose=0):\n",
        "  \"\"\"\n",
        "    Performs cross-validation for a given model using K-fold validation.\n",
        "\n",
        "    Args:\n",
        "        model (object): The machine learning model to be cross-validated.\n",
        "        kfold (object): The K-fold cross-validation iterator.\n",
        "        batch_size (int, optional): The number of samples per gradient update during training. Default is 32.\n",
        "        epochs (int, optional): The number of epochs to train the model. Default is 100.\n",
        "        verbose (int, optional): Verbosity mode. 0 = silent, 1 = progress bar, 2 = one line per epoch. Default is 0.\n",
        "\n",
        "    Returns:\n",
        "        tuple: A tuple containing two lists of training metrics and a list of validation metrics.\n",
        "            - The first list contains the average training loss for each fold.\n",
        "            - The second list contains the average training accuracy for each fold.\n",
        "            - The third list contains the evaluation results of the model on the validation set for each fold.\n",
        "    \"\"\"\n",
        "  loss_train = []\n",
        "  accuracy_train = []\n",
        "  val_metrics = []\n",
        "  train_metrics = [loss_train, accuracy_train]\n",
        "  for train_index, val_index in kfold.split(X):\n",
        "    X_train, X_val = X[train_index], X[val_index]\n",
        "    y_train, y_val = y[train_index], y[val_index]\n",
        "    history = model.fit(X_train, y_train, batch_size=batch_size, epochs=epochs, verbose=verbose)\n",
        "    acc = np.average(history.history['accuracy'])\n",
        "    l = np.average(history.history['loss'])\n",
        "    train_metrics[0].append(l)\n",
        "    train_metrics[1].append(acc)\n",
        "    val_metrics.append(model.evaluate(X_val, y_val))\n",
        "  return (train_metrics, val_metrics)"
      ],
      "metadata": {
        "id": "E83Q5fEDVGfG"
      },
      "execution_count": null,
      "outputs": []
    },
    {
      "cell_type": "markdown",
      "source": [
        "### Build the first architecture for our model.\n",
        "\n"
      ],
      "metadata": {
        "id": "bpHbKUOg4_Rm"
      }
    },
    {
      "cell_type": "code",
      "source": [
        "model1 = Sequential([\n",
        "    InputLayer(input_shape=(4,)),\n",
        "    Dense(1024, activation='relu'),\n",
        "    Dense(512, activation='relu'),\n",
        "    Dense(256, activation='relu'),\n",
        "    Dense(128, activation='relu'),\n",
        "    Dense(64, activation='relu'),\n",
        "    Dense(32, activation='relu'),\n",
        "    Dense(16, activation='relu'),\n",
        "    Dense(8, activation='relu'),\n",
        "    Dense(4, activation='relu'),\n",
        "    Dense(1, activation='sigmoid')\n",
        "])"
      ],
      "metadata": {
        "id": "fCG1Ble8LFb9"
      },
      "execution_count": null,
      "outputs": []
    },
    {
      "cell_type": "code",
      "source": [
        "model1.summary()"
      ],
      "metadata": {
        "colab": {
          "base_uri": "https://localhost:8080/"
        },
        "id": "KPc-Tw2JM2al",
        "outputId": "06e20164-cf17-4d57-a879-8a4f772bf58e"
      },
      "execution_count": null,
      "outputs": [
        {
          "output_type": "stream",
          "name": "stdout",
          "text": [
            "Model: \"sequential\"\n",
            "_________________________________________________________________\n",
            " Layer (type)                Output Shape              Param #   \n",
            "=================================================================\n",
            " dense (Dense)               (None, 1024)              5120      \n",
            "                                                                 \n",
            " dense_1 (Dense)             (None, 512)               524800    \n",
            "                                                                 \n",
            " dense_2 (Dense)             (None, 256)               131328    \n",
            "                                                                 \n",
            " dense_3 (Dense)             (None, 128)               32896     \n",
            "                                                                 \n",
            " dense_4 (Dense)             (None, 64)                8256      \n",
            "                                                                 \n",
            " dense_5 (Dense)             (None, 32)                2080      \n",
            "                                                                 \n",
            " dense_6 (Dense)             (None, 16)                528       \n",
            "                                                                 \n",
            " dense_7 (Dense)             (None, 8)                 136       \n",
            "                                                                 \n",
            " dense_8 (Dense)             (None, 4)                 36        \n",
            "                                                                 \n",
            " dense_9 (Dense)             (None, 1)                 5         \n",
            "                                                                 \n",
            "=================================================================\n",
            "Total params: 705,185\n",
            "Trainable params: 705,185\n",
            "Non-trainable params: 0\n",
            "_________________________________________________________________\n"
          ]
        }
      ]
    },
    {
      "cell_type": "code",
      "source": [
        "kfold = KFold(n_splits=10, shuffle=True)\n",
        "model1.compile(optimizer='adam', loss='binary_crossentropy', metrics=['accuracy'])"
      ],
      "metadata": {
        "id": "zdmKFT6QeCdr"
      },
      "execution_count": null,
      "outputs": []
    },
    {
      "cell_type": "code",
      "source": [
        "metrics1 = cross_validation(model1, kfold=kfold, batch_size = 32, epochs = 100)"
      ],
      "metadata": {
        "id": "e5K9O5EsN9ox",
        "colab": {
          "base_uri": "https://localhost:8080/"
        },
        "outputId": "522b19d2-cb92-4a24-e17a-0b7b403a36fb"
      },
      "execution_count": null,
      "outputs": [
        {
          "output_type": "stream",
          "name": "stdout",
          "text": [
            "3/3 [==============================] - 0s 6ms/step - loss: 0.5793 - accuracy: 0.7922\n",
            "3/3 [==============================] - 0s 6ms/step - loss: 0.5855 - accuracy: 0.8052\n",
            "3/3 [==============================] - 0s 6ms/step - loss: 0.7458 - accuracy: 0.7662\n",
            "3/3 [==============================] - 0s 5ms/step - loss: 0.6960 - accuracy: 0.7662\n",
            "3/3 [==============================] - 0s 5ms/step - loss: 0.4630 - accuracy: 0.8182\n",
            "3/3 [==============================] - 0s 6ms/step - loss: 0.2927 - accuracy: 0.8831\n",
            "3/3 [==============================] - 0s 6ms/step - loss: 0.5455 - accuracy: 0.7922\n",
            "3/3 [==============================] - 0s 6ms/step - loss: 0.5176 - accuracy: 0.8312\n",
            "3/3 [==============================] - 0s 7ms/step - loss: 0.7196 - accuracy: 0.7500\n",
            "3/3 [==============================] - 0s 7ms/step - loss: 0.6885 - accuracy: 0.7895\n"
          ]
        }
      ]
    },
    {
      "cell_type": "code",
      "source": [
        "# average_train_accuracy for the first model in the cross_validation\n",
        "average_train_accuracy1 = np.average(metrics1[0][1])\n",
        "average_train_accuracy1"
      ],
      "metadata": {
        "colab": {
          "base_uri": "https://localhost:8080/"
        },
        "id": "YpiNW4HCRnJB",
        "outputId": "761cf8a5-7fd1-47d1-fcb7-4e03c7a03f2e"
      },
      "execution_count": null,
      "outputs": [
        {
          "output_type": "execute_result",
          "data": {
            "text/plain": [
              "0.8382756298184395"
            ]
          },
          "metadata": {},
          "execution_count": 39
        }
      ]
    },
    {
      "cell_type": "code",
      "source": [
        "#vaerage_train_loss for the firt model in the cross_validation\n",
        "average_train_loss1 = np.average(metrics1[0][0])\n",
        "average_train_loss1"
      ],
      "metadata": {
        "colab": {
          "base_uri": "https://localhost:8080/"
        },
        "id": "_yxAZSrehm8H",
        "outputId": "d3eece12-9236-4b79-ae60-6cc9cd0cc4e2"
      },
      "execution_count": null,
      "outputs": [
        {
          "output_type": "execute_result",
          "data": {
            "text/plain": [
              "0.41282329076528546"
            ]
          },
          "metadata": {},
          "execution_count": 40
        }
      ]
    },
    {
      "cell_type": "code",
      "source": [
        "# average_accuracy in the val set during the train first model\n",
        "average_val_accuracy1 = np.average(metrics1[1][1])\n",
        "average_val_accuracy1 # the val_accuracy is very small"
      ],
      "metadata": {
        "colab": {
          "base_uri": "https://localhost:8080/"
        },
        "id": "Y2VeHX5ih9_w",
        "outputId": "9c6d32f1-6dbd-4789-caea-dd3636cd08f4"
      },
      "execution_count": null,
      "outputs": [
        {
          "output_type": "execute_result",
          "data": {
            "text/plain": [
              "0.6953369081020355"
            ]
          },
          "metadata": {},
          "execution_count": 41
        }
      ]
    },
    {
      "cell_type": "code",
      "source": [
        "# average_vall_loss1 in the val set during the train first model\n",
        "average_val_loss1 = np.average(metrics1[1][0])\n",
        "average_val_loss1 # the val_loss is high yet"
      ],
      "metadata": {
        "colab": {
          "base_uri": "https://localhost:8080/"
        },
        "id": "EkFSEnGRiPks",
        "outputId": "3a6f2d07-c1ec-4421-fce4-1623778a9ef6"
      },
      "execution_count": null,
      "outputs": [
        {
          "output_type": "execute_result",
          "data": {
            "text/plain": [
              "0.6857618987560272"
            ]
          },
          "metadata": {},
          "execution_count": 42
        }
      ]
    },
    {
      "cell_type": "code",
      "source": [
        "rate_cross_validation1 = 100*(average_train_accuracy1 - average_val_accuracy1)\n",
        "rate_cross_validation1 # this rate is high that suggest the model can be overfitting in the set train or because database is so small\n",
        "                       # but let's chet it on set test"
      ],
      "metadata": {
        "colab": {
          "base_uri": "https://localhost:8080/"
        },
        "id": "Mm0xJDj9i1Zp",
        "outputId": "9238261f-a85f-45c6-9d62-942784edb3cf"
      },
      "execution_count": null,
      "outputs": [
        {
          "output_type": "execute_result",
          "data": {
            "text/plain": [
              "14.293872171640398"
            ]
          },
          "metadata": {},
          "execution_count": 43
        }
      ]
    },
    {
      "cell_type": "markdown",
      "source": [
        "Evaluate the model1 in the test set."
      ],
      "metadata": {
        "id": "5J9uNMUrRbYR"
      }
    },
    {
      "cell_type": "code",
      "source": [
        "metrics_test1 = model1.evaluate(X_test, y_test)\n",
        "metrics_test1"
      ],
      "metadata": {
        "colab": {
          "base_uri": "https://localhost:8080/"
        },
        "id": "rJbb4TH2Raf7",
        "outputId": "97d15208-e658-4c55-fd1d-77f6c8b77186"
      },
      "execution_count": null,
      "outputs": [
        {
          "output_type": "stream",
          "name": "stdout",
          "text": [
            "7/7 [==============================] - 0s 4ms/step - loss: 0.4270 - accuracy: 0.8446\n"
          ]
        },
        {
          "output_type": "execute_result",
          "data": {
            "text/plain": [
              "[0.42696431279182434, 0.8445596098899841]"
            ]
          },
          "metadata": {},
          "execution_count": 44
        }
      ]
    },
    {
      "cell_type": "code",
      "source": [
        "rate_error_accuracy1 = 100*(average_train_accuracy1 - metrics_test1[1])\n",
        "rate_error_accuracy1"
      ],
      "metadata": {
        "colab": {
          "base_uri": "https://localhost:8080/"
        },
        "id": "nysviksC0jwb",
        "outputId": "40d56320-e38d-447a-8f35-3e309179a08f"
      },
      "execution_count": null,
      "outputs": [
        {
          "output_type": "execute_result",
          "data": {
            "text/plain": [
              "-0.6283980071544626"
            ]
          },
          "metadata": {},
          "execution_count": 45
        }
      ]
    },
    {
      "cell_type": "code",
      "source": [
        "rate_error_loss1 = 100*(metrics_test1[0] - average_train_loss1)\n",
        "rate_error_loss1"
      ],
      "metadata": {
        "colab": {
          "base_uri": "https://localhost:8080/"
        },
        "id": "GCh26Dd846d-",
        "outputId": "a05adbfa-d73d-4d8d-ead5-f2db77a08071"
      },
      "execution_count": null,
      "outputs": [
        {
          "output_type": "execute_result",
          "data": {
            "text/plain": [
              "1.4141022026538885"
            ]
          },
          "metadata": {},
          "execution_count": 46
        }
      ]
    },
    {
      "cell_type": "code",
      "source": [
        "def plot_curves(history):\n",
        "  plt.plot(history.history['accuracy'], label='accuracy')\n",
        "  plt.title('Accuracy and Loss')\n",
        "  plt.xlabel('epochs')\n",
        "  plt.ylabel('Metrics')\n",
        "  plt.legend()\n",
        "  plt.plot()\n",
        "\n",
        "  plt.plot(history.history['loss'], label = 'loss')\n",
        "  plt.xlabel('epochs')\n",
        "  plt.ylabel('Metrics')\n",
        "  plt.legend()\n",
        "  plt.plot()"
      ],
      "metadata": {
        "id": "sc6tjK1i3b0s"
      },
      "execution_count": null,
      "outputs": []
    },
    {
      "cell_type": "markdown",
      "source": [
        "Building the model2 add another with 2048 neurons"
      ],
      "metadata": {
        "id": "oUM3BNigXv4h"
      }
    },
    {
      "cell_type": "code",
      "source": [
        "model2 = Sequential([\n",
        "    InputLayer(input_shape=(4,)),\n",
        "    Dense(2048, activation='relu'),\n",
        "    Dense(1024, activation='relu'),\n",
        "    Dense(512, activation='relu'),\n",
        "    Dense(256, activation='relu'),\n",
        "    Dense(128, activation='relu'),\n",
        "    Dense(64, activation='relu'),\n",
        "    Dense(32, activation='relu'),\n",
        "    Dense(16, activation='relu'),\n",
        "    Dense(8, activation='relu'),\n",
        "    Dense(4, activation='relu'),\n",
        "    Dense(1, activation='sigmoid')\n",
        "])"
      ],
      "metadata": {
        "id": "xHinGiKoX4RL"
      },
      "execution_count": 2,
      "outputs": []
    },
    {
      "cell_type": "code",
      "source": [
        "model2.summary()"
      ],
      "metadata": {
        "colab": {
          "base_uri": "https://localhost:8080/"
        },
        "id": "4S03NetoUk84",
        "outputId": "6370bd87-eab4-4744-c868-69c765d6e4fb"
      },
      "execution_count": 3,
      "outputs": [
        {
          "output_type": "stream",
          "name": "stdout",
          "text": [
            "Model: \"sequential\"\n",
            "_________________________________________________________________\n",
            " Layer (type)                Output Shape              Param #   \n",
            "=================================================================\n",
            " dense (Dense)               (None, 2048)              10240     \n",
            "                                                                 \n",
            " dense_1 (Dense)             (None, 1024)              2098176   \n",
            "                                                                 \n",
            " dense_2 (Dense)             (None, 512)               524800    \n",
            "                                                                 \n",
            " dense_3 (Dense)             (None, 256)               131328    \n",
            "                                                                 \n",
            " dense_4 (Dense)             (None, 128)               32896     \n",
            "                                                                 \n",
            " dense_5 (Dense)             (None, 64)                8256      \n",
            "                                                                 \n",
            " dense_6 (Dense)             (None, 32)                2080      \n",
            "                                                                 \n",
            " dense_7 (Dense)             (None, 16)                528       \n",
            "                                                                 \n",
            " dense_8 (Dense)             (None, 8)                 136       \n",
            "                                                                 \n",
            " dense_9 (Dense)             (None, 4)                 36        \n",
            "                                                                 \n",
            " dense_10 (Dense)            (None, 1)                 5         \n",
            "                                                                 \n",
            "=================================================================\n",
            "Total params: 2,808,481\n",
            "Trainable params: 2,808,481\n",
            "Non-trainable params: 0\n",
            "_________________________________________________________________\n"
          ]
        }
      ]
    },
    {
      "cell_type": "code",
      "source": [
        "model2.compile(optimizer='adam', loss='binary_crossentropy', metrics=['accuracy'])  # increase epochs of train from 100 to 200.\n",
        "metrics2 = cross_validation(model2, kfold, epochs = 200)"
      ],
      "metadata": {
        "id": "yKQrZfsZYAWR",
        "colab": {
          "base_uri": "https://localhost:8080/"
        },
        "outputId": "896aed00-ca82-4f01-9727-61bbc8ff9e0c"
      },
      "execution_count": null,
      "outputs": [
        {
          "output_type": "stream",
          "name": "stdout",
          "text": [
            "3/3 [==============================] - 0s 6ms/step - loss: 0.5303 - accuracy: 0.7792\n",
            "3/3 [==============================] - 0s 5ms/step - loss: 0.6547 - accuracy: 0.7922\n",
            "3/3 [==============================] - 0s 6ms/step - loss: 0.6868 - accuracy: 0.6883\n",
            "3/3 [==============================] - 0s 6ms/step - loss: 0.4764 - accuracy: 0.7792\n",
            "3/3 [==============================] - 0s 7ms/step - loss: 0.7347 - accuracy: 0.7922\n",
            "3/3 [==============================] - 0s 6ms/step - loss: 1.0664 - accuracy: 0.8182\n",
            "3/3 [==============================] - 0s 5ms/step - loss: 0.5850 - accuracy: 0.7922\n",
            "3/3 [==============================] - 0s 5ms/step - loss: 6.9415 - accuracy: 0.8312\n",
            "3/3 [==============================] - 0s 5ms/step - loss: 0.9508 - accuracy: 0.7632\n",
            "3/3 [==============================] - 0s 5ms/step - loss: 0.5411 - accuracy: 0.8158\n"
          ]
        }
      ]
    },
    {
      "cell_type": "code",
      "source": [
        "average_train_accuracy2 = np.average(metrics2[0][1])\n",
        "average_train_accuracy2"
      ],
      "metadata": {
        "id": "16wRzIV2YHxT",
        "colab": {
          "base_uri": "https://localhost:8080/"
        },
        "outputId": "9b5aa81e-4ea5-4812-f69a-b76105e7884e"
      },
      "execution_count": null,
      "outputs": [
        {
          "output_type": "execute_result",
          "data": {
            "text/plain": [
              "0.8374056687951088"
            ]
          },
          "metadata": {},
          "execution_count": 56
        }
      ]
    },
    {
      "cell_type": "code",
      "source": [
        "average_train_loss2 = np.average(metrics2[0][0])\n",
        "average_train_loss2"
      ],
      "metadata": {
        "colab": {
          "base_uri": "https://localhost:8080/"
        },
        "id": "AYIPmoZIYtza",
        "outputId": "b0527d42-50b1-4e47-ebdd-493e42c4460b"
      },
      "execution_count": null,
      "outputs": [
        {
          "output_type": "execute_result",
          "data": {
            "text/plain": [
              "0.38403917530179027"
            ]
          },
          "metadata": {},
          "execution_count": 57
        }
      ]
    },
    {
      "cell_type": "code",
      "source": [
        "average_val_accuracy2 = np.average(metrics2[1][1])\n",
        "average_val_accuracy2"
      ],
      "metadata": {
        "colab": {
          "base_uri": "https://localhost:8080/"
        },
        "id": "vw6c3kf35Yrf",
        "outputId": "e62e5200-d9d2-4e56-f142-ff9bcebabf1a"
      },
      "execution_count": null,
      "outputs": [
        {
          "output_type": "execute_result",
          "data": {
            "text/plain": [
              "0.7234573066234589"
            ]
          },
          "metadata": {},
          "execution_count": 59
        }
      ]
    },
    {
      "cell_type": "code",
      "source": [
        "average_val_loss2 = np.average(metrics2[1][0])\n",
        "average_val_loss2"
      ],
      "metadata": {
        "colab": {
          "base_uri": "https://localhost:8080/"
        },
        "id": "Sbl7qCDf5j81",
        "outputId": "ef79ccba-0067-4fe2-91f9-9a7017169b9f"
      },
      "execution_count": null,
      "outputs": [
        {
          "output_type": "execute_result",
          "data": {
            "text/plain": [
              "0.6547832190990448"
            ]
          },
          "metadata": {},
          "execution_count": 60
        }
      ]
    },
    {
      "cell_type": "code",
      "source": [
        "rate_cross_accuracy2 = 100*(average_train_accuracy2 - average_val_accuracy2)\n",
        "rate_cross_accuracy2"
      ],
      "metadata": {
        "colab": {
          "base_uri": "https://localhost:8080/"
        },
        "id": "J8LWQ0WG5tqx",
        "outputId": "9d800ed8-9625-44a5-f224-2afb34898dff"
      },
      "execution_count": null,
      "outputs": [
        {
          "output_type": "execute_result",
          "data": {
            "text/plain": [
              "11.394836217164993"
            ]
          },
          "metadata": {},
          "execution_count": 61
        }
      ]
    },
    {
      "cell_type": "code",
      "source": [
        "metrics_test2 = model2.evaluate(X_test, y_test)\n",
        "metrics_test2"
      ],
      "metadata": {
        "colab": {
          "base_uri": "https://localhost:8080/"
        },
        "id": "TBtsCPo3Y1JM",
        "outputId": "53bf4530-327b-4893-f8c2-8ddf519e4863"
      },
      "execution_count": null,
      "outputs": [
        {
          "output_type": "stream",
          "name": "stdout",
          "text": [
            "7/7 [==============================] - 0s 5ms/step - loss: 0.6400 - accuracy: 0.7876\n"
          ]
        },
        {
          "output_type": "execute_result",
          "data": {
            "text/plain": [
              "[0.6400361657142639, 0.787564754486084]"
            ]
          },
          "metadata": {},
          "execution_count": 62
        }
      ]
    },
    {
      "cell_type": "code",
      "source": [
        "rate_error_accuracy2 = 100*(average_train_accuracy2 - metrics_test2[1])\n",
        "rate_error_accuracy2"
      ],
      "metadata": {
        "colab": {
          "base_uri": "https://localhost:8080/"
        },
        "id": "SUaXgipn2L1t",
        "outputId": "af6865e2-436a-4348-cb10-d48430e0dae5"
      },
      "execution_count": null,
      "outputs": [
        {
          "output_type": "execute_result",
          "data": {
            "text/plain": [
              "4.984091430902482"
            ]
          },
          "metadata": {},
          "execution_count": 63
        }
      ]
    },
    {
      "cell_type": "code",
      "source": [
        "rate_error_loss2 = 100*(metrics_test2[0] - average_train_loss2)\n",
        "rate_error_loss2"
      ],
      "metadata": {
        "colab": {
          "base_uri": "https://localhost:8080/"
        },
        "id": "TlJutUlX5Rh5",
        "outputId": "6acfb3b6-4bca-41e4-b8b7-a0d62ee237da"
      },
      "execution_count": null,
      "outputs": [
        {
          "output_type": "execute_result",
          "data": {
            "text/plain": [
              "25.599699041247366"
            ]
          },
          "metadata": {},
          "execution_count": 64
        }
      ]
    },
    {
      "cell_type": "markdown",
      "source": [
        "Building the model3 using layers of regularization called dropout"
      ],
      "metadata": {
        "id": "8JN01qWQZKio"
      }
    },
    {
      "cell_type": "code",
      "source": [
        "model3 = Sequential([\n",
        "    InputLayer(input_shape=(4,)),\n",
        "    Dense(2048, activation='relu'),\n",
        "    keras.layers.Dropout(0.5),\n",
        "    Dense(1024, activation='relu'),\n",
        "    keras.layers.Dropout(0.5),\n",
        "    Dense(512, activation='relu'),\n",
        "    keras.layers.Dropout(0.5),\n",
        "    Dense(256, activation='relu'),\n",
        "    keras.layers.Dropout(0.5),\n",
        "    Dense(128, activation='relu'),\n",
        "    keras.layers.Dropout(0.5),\n",
        "    Dense(64, activation='relu'),\n",
        "    keras.layers.Dropout(0.5),\n",
        "    Dense(32, activation='relu'),\n",
        "    keras.layers.Dropout(0.5),\n",
        "    Dense(16, activation='relu'),\n",
        "    #keras.layers.Dropout(0.5),\n",
        "    Dense(8, activation='relu'),\n",
        "    #keras.layers.Dropout(0.5),\n",
        "    Dense(4, activation='relu'),\n",
        "    #keras.layers.Dropout(0.5)\n",
        "    Dense(1, activation='sigmoid')\n",
        "])"
      ],
      "metadata": {
        "id": "Qd-Nau7sZJ0f"
      },
      "execution_count": null,
      "outputs": []
    },
    {
      "cell_type": "code",
      "source": [
        "model3.summary()"
      ],
      "metadata": {
        "colab": {
          "base_uri": "https://localhost:8080/"
        },
        "id": "8slRp71lZu8X",
        "outputId": "63f8edc7-7d03-4804-8b73-1278779d7acb"
      },
      "execution_count": null,
      "outputs": [
        {
          "output_type": "stream",
          "name": "stdout",
          "text": [
            "Model: \"sequential_2\"\n",
            "_________________________________________________________________\n",
            " Layer (type)                Output Shape              Param #   \n",
            "=================================================================\n",
            " dense_21 (Dense)            (None, 2048)              10240     \n",
            "                                                                 \n",
            " dropout (Dropout)           (None, 2048)              0         \n",
            "                                                                 \n",
            " dense_22 (Dense)            (None, 1024)              2098176   \n",
            "                                                                 \n",
            " dropout_1 (Dropout)         (None, 1024)              0         \n",
            "                                                                 \n",
            " dense_23 (Dense)            (None, 512)               524800    \n",
            "                                                                 \n",
            " dropout_2 (Dropout)         (None, 512)               0         \n",
            "                                                                 \n",
            " dense_24 (Dense)            (None, 256)               131328    \n",
            "                                                                 \n",
            " dropout_3 (Dropout)         (None, 256)               0         \n",
            "                                                                 \n",
            " dense_25 (Dense)            (None, 128)               32896     \n",
            "                                                                 \n",
            " dropout_4 (Dropout)         (None, 128)               0         \n",
            "                                                                 \n",
            " dense_26 (Dense)            (None, 64)                8256      \n",
            "                                                                 \n",
            " dropout_5 (Dropout)         (None, 64)                0         \n",
            "                                                                 \n",
            " dense_27 (Dense)            (None, 32)                2080      \n",
            "                                                                 \n",
            " dropout_6 (Dropout)         (None, 32)                0         \n",
            "                                                                 \n",
            " dense_28 (Dense)            (None, 16)                528       \n",
            "                                                                 \n",
            " dense_29 (Dense)            (None, 8)                 136       \n",
            "                                                                 \n",
            " dense_30 (Dense)            (None, 4)                 36        \n",
            "                                                                 \n",
            " dense_31 (Dense)            (None, 1)                 5         \n",
            "                                                                 \n",
            "=================================================================\n",
            "Total params: 2,808,481\n",
            "Trainable params: 2,808,481\n",
            "Non-trainable params: 0\n",
            "_________________________________________________________________\n"
          ]
        }
      ]
    },
    {
      "cell_type": "code",
      "source": [
        "model3.compile(optimizer='adam', loss='binary_crossentropy', metrics=['accuracy'])\n",
        "metrics3 = cross_validation(model3, kfold, epochs = 200)"
      ],
      "metadata": {
        "id": "u6yr89CwZyxI",
        "colab": {
          "base_uri": "https://localhost:8080/"
        },
        "outputId": "6f2d7d4f-7358-49e1-9384-e949ad084080"
      },
      "execution_count": null,
      "outputs": [
        {
          "output_type": "stream",
          "name": "stdout",
          "text": [
            "3/3 [==============================] - 0s 5ms/step - loss: 0.5016 - accuracy: 0.8312\n",
            "3/3 [==============================] - 0s 7ms/step - loss: 0.6170 - accuracy: 0.7792\n",
            "3/3 [==============================] - 0s 11ms/step - loss: 0.4385 - accuracy: 0.8312\n",
            "3/3 [==============================] - 0s 6ms/step - loss: 0.5826 - accuracy: 0.7403\n",
            "3/3 [==============================] - 0s 5ms/step - loss: 0.5134 - accuracy: 0.8182\n",
            "3/3 [==============================] - 0s 5ms/step - loss: 0.5544 - accuracy: 0.7273\n",
            "3/3 [==============================] - 0s 6ms/step - loss: 0.6021 - accuracy: 0.7662\n",
            "3/3 [==============================] - 0s 6ms/step - loss: 0.5616 - accuracy: 0.7662\n",
            "3/3 [==============================] - 0s 7ms/step - loss: 0.3935 - accuracy: 0.8947\n",
            "3/3 [==============================] - 0s 9ms/step - loss: 0.4767 - accuracy: 0.7632\n"
          ]
        }
      ]
    },
    {
      "cell_type": "code",
      "source": [
        "average_train_accuracy3 = np.average(metrics3[0][1])\n",
        "average_train_accuracy3"
      ],
      "metadata": {
        "id": "0o4f3kj7Z55B",
        "colab": {
          "base_uri": "https://localhost:8080/"
        },
        "outputId": "87656714-a93b-4405-8a87-51fdcc7d4edd"
      },
      "execution_count": null,
      "outputs": [
        {
          "output_type": "execute_result",
          "data": {
            "text/plain": [
              "0.8282646122276782"
            ]
          },
          "metadata": {},
          "execution_count": 69
        }
      ]
    },
    {
      "cell_type": "code",
      "source": [
        "average_train_loss3 = np.average(metrics3[0][0])\n",
        "average_train_loss3"
      ],
      "metadata": {
        "colab": {
          "base_uri": "https://localhost:8080/"
        },
        "id": "G-tWygDJaN1I",
        "outputId": "1c13f12f-f45c-4fb2-d2c2-aa078a8bc0c4"
      },
      "execution_count": null,
      "outputs": [
        {
          "output_type": "execute_result",
          "data": {
            "text/plain": [
              "0.4084084689617157"
            ]
          },
          "metadata": {},
          "execution_count": 70
        }
      ]
    },
    {
      "cell_type": "code",
      "source": [
        "average_val_accuracy3 = np.average(metrics3[1][1])\n",
        "average_val_accuracy3"
      ],
      "metadata": {
        "colab": {
          "base_uri": "https://localhost:8080/"
        },
        "id": "dPZr-ahIaUhT",
        "outputId": "9e5b5abe-5c11-4d05-8fcb-838d8abc4809"
      },
      "execution_count": null,
      "outputs": [
        {
          "output_type": "execute_result",
          "data": {
            "text/plain": [
              "0.8282646122276782"
            ]
          },
          "metadata": {},
          "execution_count": 71
        }
      ]
    },
    {
      "cell_type": "code",
      "source": [
        "average_val_loss3 = np.average(metrics3[1][0])\n",
        "average_val_loss3"
      ],
      "metadata": {
        "colab": {
          "base_uri": "https://localhost:8080/"
        },
        "id": "MCc7MzL568l2",
        "outputId": "469f0244-8c43-42c0-8e81-06dc2436bdd0"
      },
      "execution_count": null,
      "outputs": [
        {
          "output_type": "execute_result",
          "data": {
            "text/plain": [
              "0.6663989126682281"
            ]
          },
          "metadata": {},
          "execution_count": 72
        }
      ]
    },
    {
      "cell_type": "code",
      "source": [
        "rate_cross_accuracy3 = 100*(average_train_accuracy3 - average_val_accuracy3)\n",
        "rate_cross_accuracy3"
      ],
      "metadata": {
        "colab": {
          "base_uri": "https://localhost:8080/"
        },
        "id": "vpmojJ5Q7Dam",
        "outputId": "b529a92e-4b1a-41a8-e71c-51cb0bc2dc3a"
      },
      "execution_count": null,
      "outputs": [
        {
          "output_type": "execute_result",
          "data": {
            "text/plain": [
              "13.015149858593933"
            ]
          },
          "metadata": {},
          "execution_count": 73
        }
      ]
    },
    {
      "cell_type": "code",
      "source": [
        "metrics_test3 = model3.evaluate(X_test, y_test)"
      ],
      "metadata": {
        "colab": {
          "base_uri": "https://localhost:8080/"
        },
        "id": "Akjz0Ch7abjx",
        "outputId": "8f73689f-2465-44ce-fafa-d372939979e6"
      },
      "execution_count": null,
      "outputs": [
        {
          "output_type": "stream",
          "name": "stdout",
          "text": [
            "7/7 [==============================] - 0s 3ms/step - loss: 0.6622 - accuracy: 0.8083\n"
          ]
        }
      ]
    },
    {
      "cell_type": "code",
      "source": [
        "rate_error_accuracy3 = 100*(average_train_accuracy3 - metrics_test3[1])\n",
        "rate_error_accuracy3 # this difference between train_accuracy and test_accuracy"
      ],
      "metadata": {
        "colab": {
          "base_uri": "https://localhost:8080/"
        },
        "id": "ToFRBf7T3hf0",
        "outputId": "1d947462-e3cd-4d25-ae85-636111a15521"
      },
      "execution_count": null,
      "outputs": [
        {
          "output_type": "execute_result",
          "data": {
            "text/plain": [
              "1.9974428683519285"
            ]
          },
          "metadata": {},
          "execution_count": 75
        }
      ]
    },
    {
      "cell_type": "code",
      "source": [
        "rate_error_loss3 = 100*(metrics_test3[0] - average_train_loss3)\n",
        "rate_error_loss3"
      ],
      "metadata": {
        "colab": {
          "base_uri": "https://localhost:8080/"
        },
        "id": "u07hVj0k5j-o",
        "outputId": "8150c9af-ba8d-4fdc-bbb2-f504841fa97e"
      },
      "execution_count": null,
      "outputs": [
        {
          "output_type": "execute_result",
          "data": {
            "text/plain": [
              "25.38041412830353"
            ]
          },
          "metadata": {},
          "execution_count": 76
        }
      ]
    }
  ]
}